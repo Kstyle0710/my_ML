{
 "cells": [
  {
   "cell_type": "markdown",
   "metadata": {},
   "source": [
    "# K-Nearest Neighbor (최근접 이웃)\n",
    "### - 예측 모델없이 최근접 값들을 기준으로 분류/회귀"
   ]
  },
  {
   "cell_type": "code",
   "execution_count": 253,
   "metadata": {},
   "outputs": [],
   "source": [
    "import pandas as pd\n",
    "import numpy as np\n",
    "import multiprocessing\n",
    "import matplotlib.pyplot as plt\n",
    "plt.style.use(['seaborn-whitegrid'])"
   ]
  },
  {
   "cell_type": "code",
   "execution_count": 254,
   "metadata": {},
   "outputs": [],
   "source": [
    "from sklearn.neighbors import KNeighborsClassifier, KNeighborsRegressor\n",
    "from sklearn.manifold import TSNE\n",
    "from sklearn.datasets import load_iris, load_breast_cancer, load_wine\n",
    "from sklearn.datasets import load_boston, fetch_california_housing\n",
    "from sklearn.model_selection import train_test_split, cross_validate, GridSearchCV\n",
    "from sklearn.preprocessing import StandardScaler\n",
    "from sklearn.pipeline import make_pipeline, Pipeline"
   ]
  },
  {
   "cell_type": "markdown",
   "metadata": {},
   "source": [
    "# KNN Classification"
   ]
  },
  {
   "cell_type": "markdown",
   "metadata": {},
   "source": [
    "### Data 가져오기"
   ]
  },
  {
   "cell_type": "code",
   "execution_count": 255,
   "metadata": {},
   "outputs": [
    {
     "data": {
      "text/plain": [
       "{'data': array([[1.423e+01, 1.710e+00, 2.430e+00, ..., 1.040e+00, 3.920e+00,\n",
       "         1.065e+03],\n",
       "        [1.320e+01, 1.780e+00, 2.140e+00, ..., 1.050e+00, 3.400e+00,\n",
       "         1.050e+03],\n",
       "        [1.316e+01, 2.360e+00, 2.670e+00, ..., 1.030e+00, 3.170e+00,\n",
       "         1.185e+03],\n",
       "        ...,\n",
       "        [1.327e+01, 4.280e+00, 2.260e+00, ..., 5.900e-01, 1.560e+00,\n",
       "         8.350e+02],\n",
       "        [1.317e+01, 2.590e+00, 2.370e+00, ..., 6.000e-01, 1.620e+00,\n",
       "         8.400e+02],\n",
       "        [1.413e+01, 4.100e+00, 2.740e+00, ..., 6.100e-01, 1.600e+00,\n",
       "         5.600e+02]]),\n",
       " 'target': array([0, 0, 0, 0, 0, 0, 0, 0, 0, 0, 0, 0, 0, 0, 0, 0, 0, 0, 0, 0, 0, 0,\n",
       "        0, 0, 0, 0, 0, 0, 0, 0, 0, 0, 0, 0, 0, 0, 0, 0, 0, 0, 0, 0, 0, 0,\n",
       "        0, 0, 0, 0, 0, 0, 0, 0, 0, 0, 0, 0, 0, 0, 0, 1, 1, 1, 1, 1, 1, 1,\n",
       "        1, 1, 1, 1, 1, 1, 1, 1, 1, 1, 1, 1, 1, 1, 1, 1, 1, 1, 1, 1, 1, 1,\n",
       "        1, 1, 1, 1, 1, 1, 1, 1, 1, 1, 1, 1, 1, 1, 1, 1, 1, 1, 1, 1, 1, 1,\n",
       "        1, 1, 1, 1, 1, 1, 1, 1, 1, 1, 1, 1, 1, 1, 1, 1, 1, 1, 1, 1, 2, 2,\n",
       "        2, 2, 2, 2, 2, 2, 2, 2, 2, 2, 2, 2, 2, 2, 2, 2, 2, 2, 2, 2, 2, 2,\n",
       "        2, 2, 2, 2, 2, 2, 2, 2, 2, 2, 2, 2, 2, 2, 2, 2, 2, 2, 2, 2, 2, 2,\n",
       "        2, 2]),\n",
       " 'frame': None,\n",
       " 'target_names': array(['class_0', 'class_1', 'class_2'], dtype='<U7'),\n",
       " 'DESCR': '.. _wine_dataset:\\n\\nWine recognition dataset\\n------------------------\\n\\n**Data Set Characteristics:**\\n\\n    :Number of Instances: 178 (50 in each of three classes)\\n    :Number of Attributes: 13 numeric, predictive attributes and the class\\n    :Attribute Information:\\n \\t\\t- Alcohol\\n \\t\\t- Malic acid\\n \\t\\t- Ash\\n\\t\\t- Alcalinity of ash  \\n \\t\\t- Magnesium\\n\\t\\t- Total phenols\\n \\t\\t- Flavanoids\\n \\t\\t- Nonflavanoid phenols\\n \\t\\t- Proanthocyanins\\n\\t\\t- Color intensity\\n \\t\\t- Hue\\n \\t\\t- OD280/OD315 of diluted wines\\n \\t\\t- Proline\\n\\n    - class:\\n            - class_0\\n            - class_1\\n            - class_2\\n\\t\\t\\n    :Summary Statistics:\\n    \\n    ============================= ==== ===== ======= =====\\n                                   Min   Max   Mean     SD\\n    ============================= ==== ===== ======= =====\\n    Alcohol:                      11.0  14.8    13.0   0.8\\n    Malic Acid:                   0.74  5.80    2.34  1.12\\n    Ash:                          1.36  3.23    2.36  0.27\\n    Alcalinity of Ash:            10.6  30.0    19.5   3.3\\n    Magnesium:                    70.0 162.0    99.7  14.3\\n    Total Phenols:                0.98  3.88    2.29  0.63\\n    Flavanoids:                   0.34  5.08    2.03  1.00\\n    Nonflavanoid Phenols:         0.13  0.66    0.36  0.12\\n    Proanthocyanins:              0.41  3.58    1.59  0.57\\n    Colour Intensity:              1.3  13.0     5.1   2.3\\n    Hue:                          0.48  1.71    0.96  0.23\\n    OD280/OD315 of diluted wines: 1.27  4.00    2.61  0.71\\n    Proline:                       278  1680     746   315\\n    ============================= ==== ===== ======= =====\\n\\n    :Missing Attribute Values: None\\n    :Class Distribution: class_0 (59), class_1 (71), class_2 (48)\\n    :Creator: R.A. Fisher\\n    :Donor: Michael Marshall (MARSHALL%PLU@io.arc.nasa.gov)\\n    :Date: July, 1988\\n\\nThis is a copy of UCI ML Wine recognition datasets.\\nhttps://archive.ics.uci.edu/ml/machine-learning-databases/wine/wine.data\\n\\nThe data is the results of a chemical analysis of wines grown in the same\\nregion in Italy by three different cultivators. There are thirteen different\\nmeasurements taken for different constituents found in the three types of\\nwine.\\n\\nOriginal Owners: \\n\\nForina, M. et al, PARVUS - \\nAn Extendible Package for Data Exploration, Classification and Correlation. \\nInstitute of Pharmaceutical and Food Analysis and Technologies,\\nVia Brigata Salerno, 16147 Genoa, Italy.\\n\\nCitation:\\n\\nLichman, M. (2013). UCI Machine Learning Repository\\n[https://archive.ics.uci.edu/ml]. Irvine, CA: University of California,\\nSchool of Information and Computer Science. \\n\\n.. topic:: References\\n\\n  (1) S. Aeberhard, D. Coomans and O. de Vel, \\n  Comparison of Classifiers in High Dimensional Settings, \\n  Tech. Rep. no. 92-02, (1992), Dept. of Computer Science and Dept. of  \\n  Mathematics and Statistics, James Cook University of North Queensland. \\n  (Also submitted to Technometrics). \\n\\n  The data was used with many others for comparing various \\n  classifiers. The classes are separable, though only RDA \\n  has achieved 100% correct classification. \\n  (RDA : 100%, QDA 99.4%, LDA 98.9%, 1NN 96.1% (z-transformed data)) \\n  (All results using the leave-one-out technique) \\n\\n  (2) S. Aeberhard, D. Coomans and O. de Vel, \\n  \"THE CLASSIFICATION PERFORMANCE OF RDA\" \\n  Tech. Rep. no. 92-01, (1992), Dept. of Computer Science and Dept. of \\n  Mathematics and Statistics, James Cook University of North Queensland. \\n  (Also submitted to Journal of Chemometrics).\\n',\n",
       " 'feature_names': ['alcohol',\n",
       "  'malic_acid',\n",
       "  'ash',\n",
       "  'alcalinity_of_ash',\n",
       "  'magnesium',\n",
       "  'total_phenols',\n",
       "  'flavanoids',\n",
       "  'nonflavanoid_phenols',\n",
       "  'proanthocyanins',\n",
       "  'color_intensity',\n",
       "  'hue',\n",
       "  'od280/od315_of_diluted_wines',\n",
       "  'proline']}"
      ]
     },
     "execution_count": 255,
     "metadata": {},
     "output_type": "execute_result"
    }
   ],
   "source": [
    "a = load_wine                     \n",
    "data = a()\n",
    "data"
   ]
  },
  {
   "cell_type": "code",
   "execution_count": 256,
   "metadata": {},
   "outputs": [
    {
     "data": {
      "text/html": [
       "<div>\n",
       "<style scoped>\n",
       "    .dataframe tbody tr th:only-of-type {\n",
       "        vertical-align: middle;\n",
       "    }\n",
       "\n",
       "    .dataframe tbody tr th {\n",
       "        vertical-align: top;\n",
       "    }\n",
       "\n",
       "    .dataframe thead th {\n",
       "        text-align: right;\n",
       "    }\n",
       "</style>\n",
       "<table border=\"1\" class=\"dataframe\">\n",
       "  <thead>\n",
       "    <tr style=\"text-align: right;\">\n",
       "      <th></th>\n",
       "      <th>alcohol</th>\n",
       "      <th>malic_acid</th>\n",
       "      <th>ash</th>\n",
       "      <th>alcalinity_of_ash</th>\n",
       "      <th>magnesium</th>\n",
       "      <th>total_phenols</th>\n",
       "      <th>flavanoids</th>\n",
       "      <th>nonflavanoid_phenols</th>\n",
       "      <th>proanthocyanins</th>\n",
       "      <th>color_intensity</th>\n",
       "      <th>hue</th>\n",
       "      <th>od280/od315_of_diluted_wines</th>\n",
       "      <th>proline</th>\n",
       "    </tr>\n",
       "  </thead>\n",
       "  <tbody>\n",
       "    <tr>\n",
       "      <th>0</th>\n",
       "      <td>14.23</td>\n",
       "      <td>1.71</td>\n",
       "      <td>2.43</td>\n",
       "      <td>15.6</td>\n",
       "      <td>127.0</td>\n",
       "      <td>2.80</td>\n",
       "      <td>3.06</td>\n",
       "      <td>0.28</td>\n",
       "      <td>2.29</td>\n",
       "      <td>5.64</td>\n",
       "      <td>1.04</td>\n",
       "      <td>3.92</td>\n",
       "      <td>1065.0</td>\n",
       "    </tr>\n",
       "    <tr>\n",
       "      <th>1</th>\n",
       "      <td>13.20</td>\n",
       "      <td>1.78</td>\n",
       "      <td>2.14</td>\n",
       "      <td>11.2</td>\n",
       "      <td>100.0</td>\n",
       "      <td>2.65</td>\n",
       "      <td>2.76</td>\n",
       "      <td>0.26</td>\n",
       "      <td>1.28</td>\n",
       "      <td>4.38</td>\n",
       "      <td>1.05</td>\n",
       "      <td>3.40</td>\n",
       "      <td>1050.0</td>\n",
       "    </tr>\n",
       "    <tr>\n",
       "      <th>2</th>\n",
       "      <td>13.16</td>\n",
       "      <td>2.36</td>\n",
       "      <td>2.67</td>\n",
       "      <td>18.6</td>\n",
       "      <td>101.0</td>\n",
       "      <td>2.80</td>\n",
       "      <td>3.24</td>\n",
       "      <td>0.30</td>\n",
       "      <td>2.81</td>\n",
       "      <td>5.68</td>\n",
       "      <td>1.03</td>\n",
       "      <td>3.17</td>\n",
       "      <td>1185.0</td>\n",
       "    </tr>\n",
       "    <tr>\n",
       "      <th>3</th>\n",
       "      <td>14.37</td>\n",
       "      <td>1.95</td>\n",
       "      <td>2.50</td>\n",
       "      <td>16.8</td>\n",
       "      <td>113.0</td>\n",
       "      <td>3.85</td>\n",
       "      <td>3.49</td>\n",
       "      <td>0.24</td>\n",
       "      <td>2.18</td>\n",
       "      <td>7.80</td>\n",
       "      <td>0.86</td>\n",
       "      <td>3.45</td>\n",
       "      <td>1480.0</td>\n",
       "    </tr>\n",
       "    <tr>\n",
       "      <th>4</th>\n",
       "      <td>13.24</td>\n",
       "      <td>2.59</td>\n",
       "      <td>2.87</td>\n",
       "      <td>21.0</td>\n",
       "      <td>118.0</td>\n",
       "      <td>2.80</td>\n",
       "      <td>2.69</td>\n",
       "      <td>0.39</td>\n",
       "      <td>1.82</td>\n",
       "      <td>4.32</td>\n",
       "      <td>1.04</td>\n",
       "      <td>2.93</td>\n",
       "      <td>735.0</td>\n",
       "    </tr>\n",
       "  </tbody>\n",
       "</table>\n",
       "</div>"
      ],
      "text/plain": [
       "   alcohol  malic_acid   ash  alcalinity_of_ash  magnesium  total_phenols  \\\n",
       "0    14.23        1.71  2.43               15.6      127.0           2.80   \n",
       "1    13.20        1.78  2.14               11.2      100.0           2.65   \n",
       "2    13.16        2.36  2.67               18.6      101.0           2.80   \n",
       "3    14.37        1.95  2.50               16.8      113.0           3.85   \n",
       "4    13.24        2.59  2.87               21.0      118.0           2.80   \n",
       "\n",
       "   flavanoids  nonflavanoid_phenols  proanthocyanins  color_intensity   hue  \\\n",
       "0        3.06                  0.28             2.29             5.64  1.04   \n",
       "1        2.76                  0.26             1.28             4.38  1.05   \n",
       "2        3.24                  0.30             2.81             5.68  1.03   \n",
       "3        3.49                  0.24             2.18             7.80  0.86   \n",
       "4        2.69                  0.39             1.82             4.32  1.04   \n",
       "\n",
       "   od280/od315_of_diluted_wines  proline  \n",
       "0                          3.92   1065.0  \n",
       "1                          3.40   1050.0  \n",
       "2                          3.17   1185.0  \n",
       "3                          3.45   1480.0  \n",
       "4                          2.93    735.0  "
      ]
     },
     "execution_count": 256,
     "metadata": {},
     "output_type": "execute_result"
    }
   ],
   "source": [
    "df = pd.DataFrame(data=data.data, columns = data.feature_names)\n",
    "df.head()"
   ]
  },
  {
   "cell_type": "code",
   "execution_count": 257,
   "metadata": {},
   "outputs": [
    {
     "data": {
      "text/html": [
       "<div>\n",
       "<style scoped>\n",
       "    .dataframe tbody tr th:only-of-type {\n",
       "        vertical-align: middle;\n",
       "    }\n",
       "\n",
       "    .dataframe tbody tr th {\n",
       "        vertical-align: top;\n",
       "    }\n",
       "\n",
       "    .dataframe thead th {\n",
       "        text-align: right;\n",
       "    }\n",
       "</style>\n",
       "<table border=\"1\" class=\"dataframe\">\n",
       "  <thead>\n",
       "    <tr style=\"text-align: right;\">\n",
       "      <th></th>\n",
       "      <th>alcohol</th>\n",
       "      <th>malic_acid</th>\n",
       "      <th>ash</th>\n",
       "      <th>alcalinity_of_ash</th>\n",
       "      <th>magnesium</th>\n",
       "      <th>total_phenols</th>\n",
       "      <th>flavanoids</th>\n",
       "      <th>nonflavanoid_phenols</th>\n",
       "      <th>proanthocyanins</th>\n",
       "      <th>color_intensity</th>\n",
       "      <th>hue</th>\n",
       "      <th>od280/od315_of_diluted_wines</th>\n",
       "      <th>proline</th>\n",
       "      <th>Target</th>\n",
       "    </tr>\n",
       "  </thead>\n",
       "  <tbody>\n",
       "    <tr>\n",
       "      <th>0</th>\n",
       "      <td>14.23</td>\n",
       "      <td>1.71</td>\n",
       "      <td>2.43</td>\n",
       "      <td>15.6</td>\n",
       "      <td>127.0</td>\n",
       "      <td>2.80</td>\n",
       "      <td>3.06</td>\n",
       "      <td>0.28</td>\n",
       "      <td>2.29</td>\n",
       "      <td>5.64</td>\n",
       "      <td>1.04</td>\n",
       "      <td>3.92</td>\n",
       "      <td>1065.0</td>\n",
       "      <td>0</td>\n",
       "    </tr>\n",
       "    <tr>\n",
       "      <th>1</th>\n",
       "      <td>13.20</td>\n",
       "      <td>1.78</td>\n",
       "      <td>2.14</td>\n",
       "      <td>11.2</td>\n",
       "      <td>100.0</td>\n",
       "      <td>2.65</td>\n",
       "      <td>2.76</td>\n",
       "      <td>0.26</td>\n",
       "      <td>1.28</td>\n",
       "      <td>4.38</td>\n",
       "      <td>1.05</td>\n",
       "      <td>3.40</td>\n",
       "      <td>1050.0</td>\n",
       "      <td>0</td>\n",
       "    </tr>\n",
       "    <tr>\n",
       "      <th>2</th>\n",
       "      <td>13.16</td>\n",
       "      <td>2.36</td>\n",
       "      <td>2.67</td>\n",
       "      <td>18.6</td>\n",
       "      <td>101.0</td>\n",
       "      <td>2.80</td>\n",
       "      <td>3.24</td>\n",
       "      <td>0.30</td>\n",
       "      <td>2.81</td>\n",
       "      <td>5.68</td>\n",
       "      <td>1.03</td>\n",
       "      <td>3.17</td>\n",
       "      <td>1185.0</td>\n",
       "      <td>0</td>\n",
       "    </tr>\n",
       "    <tr>\n",
       "      <th>3</th>\n",
       "      <td>14.37</td>\n",
       "      <td>1.95</td>\n",
       "      <td>2.50</td>\n",
       "      <td>16.8</td>\n",
       "      <td>113.0</td>\n",
       "      <td>3.85</td>\n",
       "      <td>3.49</td>\n",
       "      <td>0.24</td>\n",
       "      <td>2.18</td>\n",
       "      <td>7.80</td>\n",
       "      <td>0.86</td>\n",
       "      <td>3.45</td>\n",
       "      <td>1480.0</td>\n",
       "      <td>0</td>\n",
       "    </tr>\n",
       "    <tr>\n",
       "      <th>4</th>\n",
       "      <td>13.24</td>\n",
       "      <td>2.59</td>\n",
       "      <td>2.87</td>\n",
       "      <td>21.0</td>\n",
       "      <td>118.0</td>\n",
       "      <td>2.80</td>\n",
       "      <td>2.69</td>\n",
       "      <td>0.39</td>\n",
       "      <td>1.82</td>\n",
       "      <td>4.32</td>\n",
       "      <td>1.04</td>\n",
       "      <td>2.93</td>\n",
       "      <td>735.0</td>\n",
       "      <td>0</td>\n",
       "    </tr>\n",
       "  </tbody>\n",
       "</table>\n",
       "</div>"
      ],
      "text/plain": [
       "   alcohol  malic_acid   ash  alcalinity_of_ash  magnesium  total_phenols  \\\n",
       "0    14.23        1.71  2.43               15.6      127.0           2.80   \n",
       "1    13.20        1.78  2.14               11.2      100.0           2.65   \n",
       "2    13.16        2.36  2.67               18.6      101.0           2.80   \n",
       "3    14.37        1.95  2.50               16.8      113.0           3.85   \n",
       "4    13.24        2.59  2.87               21.0      118.0           2.80   \n",
       "\n",
       "   flavanoids  nonflavanoid_phenols  proanthocyanins  color_intensity   hue  \\\n",
       "0        3.06                  0.28             2.29             5.64  1.04   \n",
       "1        2.76                  0.26             1.28             4.38  1.05   \n",
       "2        3.24                  0.30             2.81             5.68  1.03   \n",
       "3        3.49                  0.24             2.18             7.80  0.86   \n",
       "4        2.69                  0.39             1.82             4.32  1.04   \n",
       "\n",
       "   od280/od315_of_diluted_wines  proline  Target  \n",
       "0                          3.92   1065.0       0  \n",
       "1                          3.40   1050.0       0  \n",
       "2                          3.17   1185.0       0  \n",
       "3                          3.45   1480.0       0  \n",
       "4                          2.93    735.0       0  "
      ]
     },
     "execution_count": 257,
     "metadata": {},
     "output_type": "execute_result"
    }
   ],
   "source": [
    "df['Target'] = data.target\n",
    "df.head()"
   ]
  },
  {
   "cell_type": "markdown",
   "metadata": {},
   "source": [
    "### Train, Test Data 분리하기"
   ]
  },
  {
   "cell_type": "code",
   "execution_count": 258,
   "metadata": {},
   "outputs": [],
   "source": [
    "def X_y(t):\n",
    "    X, y = t(return_X_y=True)\n",
    "    return X, y"
   ]
  },
  {
   "cell_type": "code",
   "execution_count": 259,
   "metadata": {},
   "outputs": [
    {
     "data": {
      "text/plain": [
       "(array([[1.423e+01, 1.710e+00, 2.430e+00, ..., 1.040e+00, 3.920e+00,\n",
       "         1.065e+03],\n",
       "        [1.320e+01, 1.780e+00, 2.140e+00, ..., 1.050e+00, 3.400e+00,\n",
       "         1.050e+03],\n",
       "        [1.316e+01, 2.360e+00, 2.670e+00, ..., 1.030e+00, 3.170e+00,\n",
       "         1.185e+03],\n",
       "        ...,\n",
       "        [1.327e+01, 4.280e+00, 2.260e+00, ..., 5.900e-01, 1.560e+00,\n",
       "         8.350e+02],\n",
       "        [1.317e+01, 2.590e+00, 2.370e+00, ..., 6.000e-01, 1.620e+00,\n",
       "         8.400e+02],\n",
       "        [1.413e+01, 4.100e+00, 2.740e+00, ..., 6.100e-01, 1.600e+00,\n",
       "         5.600e+02]]),\n",
       " array([0, 0, 0, 0, 0, 0, 0, 0, 0, 0, 0, 0, 0, 0, 0, 0, 0, 0, 0, 0, 0, 0,\n",
       "        0, 0, 0, 0, 0, 0, 0, 0, 0, 0, 0, 0, 0, 0, 0, 0, 0, 0, 0, 0, 0, 0,\n",
       "        0, 0, 0, 0, 0, 0, 0, 0, 0, 0, 0, 0, 0, 0, 0, 1, 1, 1, 1, 1, 1, 1,\n",
       "        1, 1, 1, 1, 1, 1, 1, 1, 1, 1, 1, 1, 1, 1, 1, 1, 1, 1, 1, 1, 1, 1,\n",
       "        1, 1, 1, 1, 1, 1, 1, 1, 1, 1, 1, 1, 1, 1, 1, 1, 1, 1, 1, 1, 1, 1,\n",
       "        1, 1, 1, 1, 1, 1, 1, 1, 1, 1, 1, 1, 1, 1, 1, 1, 1, 1, 1, 1, 2, 2,\n",
       "        2, 2, 2, 2, 2, 2, 2, 2, 2, 2, 2, 2, 2, 2, 2, 2, 2, 2, 2, 2, 2, 2,\n",
       "        2, 2, 2, 2, 2, 2, 2, 2, 2, 2, 2, 2, 2, 2, 2, 2, 2, 2, 2, 2, 2, 2,\n",
       "        2, 2]))"
      ]
     },
     "execution_count": 259,
     "metadata": {},
     "output_type": "execute_result"
    }
   ],
   "source": [
    "X_y(a)"
   ]
  },
  {
   "cell_type": "code",
   "execution_count": 260,
   "metadata": {},
   "outputs": [],
   "source": [
    "X, y = X_y(a)"
   ]
  },
  {
   "cell_type": "code",
   "execution_count": 261,
   "metadata": {},
   "outputs": [
    {
     "data": {
      "text/plain": [
       "array([[1.423e+01, 1.710e+00, 2.430e+00, ..., 1.040e+00, 3.920e+00,\n",
       "        1.065e+03],\n",
       "       [1.320e+01, 1.780e+00, 2.140e+00, ..., 1.050e+00, 3.400e+00,\n",
       "        1.050e+03],\n",
       "       [1.316e+01, 2.360e+00, 2.670e+00, ..., 1.030e+00, 3.170e+00,\n",
       "        1.185e+03],\n",
       "       ...,\n",
       "       [1.327e+01, 4.280e+00, 2.260e+00, ..., 5.900e-01, 1.560e+00,\n",
       "        8.350e+02],\n",
       "       [1.317e+01, 2.590e+00, 2.370e+00, ..., 6.000e-01, 1.620e+00,\n",
       "        8.400e+02],\n",
       "       [1.413e+01, 4.100e+00, 2.740e+00, ..., 6.100e-01, 1.600e+00,\n",
       "        5.600e+02]])"
      ]
     },
     "execution_count": 261,
     "metadata": {},
     "output_type": "execute_result"
    }
   ],
   "source": [
    "X"
   ]
  },
  {
   "cell_type": "code",
   "execution_count": 262,
   "metadata": {},
   "outputs": [
    {
     "data": {
      "text/plain": [
       "array([0, 0, 0, 0, 0, 0, 0, 0, 0, 0, 0, 0, 0, 0, 0, 0, 0, 0, 0, 0, 0, 0,\n",
       "       0, 0, 0, 0, 0, 0, 0, 0, 0, 0, 0, 0, 0, 0, 0, 0, 0, 0, 0, 0, 0, 0,\n",
       "       0, 0, 0, 0, 0, 0, 0, 0, 0, 0, 0, 0, 0, 0, 0, 1, 1, 1, 1, 1, 1, 1,\n",
       "       1, 1, 1, 1, 1, 1, 1, 1, 1, 1, 1, 1, 1, 1, 1, 1, 1, 1, 1, 1, 1, 1,\n",
       "       1, 1, 1, 1, 1, 1, 1, 1, 1, 1, 1, 1, 1, 1, 1, 1, 1, 1, 1, 1, 1, 1,\n",
       "       1, 1, 1, 1, 1, 1, 1, 1, 1, 1, 1, 1, 1, 1, 1, 1, 1, 1, 1, 1, 2, 2,\n",
       "       2, 2, 2, 2, 2, 2, 2, 2, 2, 2, 2, 2, 2, 2, 2, 2, 2, 2, 2, 2, 2, 2,\n",
       "       2, 2, 2, 2, 2, 2, 2, 2, 2, 2, 2, 2, 2, 2, 2, 2, 2, 2, 2, 2, 2, 2,\n",
       "       2, 2])"
      ]
     },
     "execution_count": 262,
     "metadata": {},
     "output_type": "execute_result"
    }
   ],
   "source": [
    "y"
   ]
  },
  {
   "cell_type": "code",
   "execution_count": 263,
   "metadata": {},
   "outputs": [],
   "source": [
    "X_train, X_test, y_train, y_test = train_test_split(X, y, test_size=0.2)"
   ]
  },
  {
   "cell_type": "code",
   "execution_count": 264,
   "metadata": {},
   "outputs": [
    {
     "name": "stdout",
     "output_type": "stream",
     "text": [
      "총개수 : 178, X_train 개수 : 142, y_train 개수 : 142, X_test 개수 : 36\n"
     ]
    }
   ],
   "source": [
    "print(\"총개수 : {0}, X_train 개수 : {1}, y_train 개수 : {2}, X_test 개수 : {3}\".format(len(X), len(X_train), len(y_train), len(X_test)))"
   ]
  },
  {
   "cell_type": "markdown",
   "metadata": {},
   "source": [
    "### 전처리 (standardization)"
   ]
  },
  {
   "cell_type": "code",
   "execution_count": 265,
   "metadata": {},
   "outputs": [],
   "source": [
    "scaler = StandardScaler()"
   ]
  },
  {
   "cell_type": "code",
   "execution_count": 266,
   "metadata": {},
   "outputs": [],
   "source": [
    "X_train_scale = scaler.fit_transform(X_train)\n",
    "X_test_scale = scaler.transform(X_test)"
   ]
  },
  {
   "cell_type": "markdown",
   "metadata": {},
   "source": [
    "### Model 적용"
   ]
  },
  {
   "cell_type": "code",
   "execution_count": 267,
   "metadata": {},
   "outputs": [
    {
     "name": "stdout",
     "output_type": "stream",
     "text": [
      "학습 데이터 점수 : 0.746479\n",
      "평가 데이터 점수 : 0.750000\n"
     ]
    }
   ],
   "source": [
    "model = KNeighborsClassifier()\n",
    "model.fit(X_train, y_train)\n",
    "print(\"학습 데이터 점수 : {:2f}\".format(model.score(X_train, y_train)))\n",
    "print(\"평가 데이터 점수 : {:2f}\".format(model.score(X_test, y_test)))"
   ]
  },
  {
   "cell_type": "code",
   "execution_count": 268,
   "metadata": {},
   "outputs": [
    {
     "name": "stdout",
     "output_type": "stream",
     "text": [
      "학습 데이터 점수 : 0.96\n",
      "평가 데이터 점수 : 1.00\n"
     ]
    }
   ],
   "source": [
    "model = KNeighborsClassifier()\n",
    "model.fit(X_train_scale, y_train)\n",
    "print(\"학습 데이터 점수 : {:.2f}\".format(model.score(X_train_scale, y_train)))\n",
    "print(\"평가 데이터 점수 : {:.2f}\".format(model.score(X_test_scale, y_test)))"
   ]
  },
  {
   "cell_type": "markdown",
   "metadata": {},
   "source": [
    "### Cross Validate 검증"
   ]
  },
  {
   "cell_type": "code",
   "execution_count": 269,
   "metadata": {},
   "outputs": [],
   "source": [
    "estimator = make_pipeline(StandardScaler(), KNeighborsClassifier())"
   ]
  },
  {
   "cell_type": "code",
   "execution_count": 270,
   "metadata": {},
   "outputs": [
    {
     "name": "stderr",
     "output_type": "stream",
     "text": [
      "[Parallel(n_jobs=8)]: Using backend LokyBackend with 8 concurrent workers.\n",
      "[Parallel(n_jobs=8)]: Done   6 out of  10 | elapsed:    4.3s remaining:    2.8s\n",
      "[Parallel(n_jobs=8)]: Done  10 out of  10 | elapsed:    4.4s finished\n"
     ]
    },
    {
     "data": {
      "text/plain": [
       "{'fit_time': array([0.00300241, 0.00300241, 0.00300241, 0.00300241, 0.00596833,\n",
       "        0.00300241, 0.00300241, 0.00300241, 0.0059967 , 0.00500417]),\n",
       " 'score_time': array([0.00299096, 0.00299096, 0.00499535, 0.02899766, 0.00400043,\n",
       "        0.00299096, 0.00401282, 0.00699568, 0.0060041 , 0.0059917 ]),\n",
       " 'test_score': array([1.        , 0.94444444, 0.94444444, 0.94444444, 1.        ,\n",
       "        0.94444444, 1.        , 1.        , 0.94117647, 0.94117647])}"
      ]
     },
     "execution_count": 270,
     "metadata": {},
     "output_type": "execute_result"
    }
   ],
   "source": [
    "cross_validate(\n",
    "    estimator=estimator,\n",
    "    X=X, y=y,\n",
    "    cv=10,\n",
    "    n_jobs=multiprocessing.cpu_count(),\n",
    "    verbose=True)"
   ]
  },
  {
   "cell_type": "markdown",
   "metadata": {},
   "source": [
    "### 최적화 조건 검토"
   ]
  },
  {
   "cell_type": "code",
   "execution_count": 271,
   "metadata": {},
   "outputs": [],
   "source": [
    "pipe = Pipeline([('scaler', StandardScaler()), ('model', KNeighborsClassifier())])"
   ]
  },
  {
   "cell_type": "code",
   "execution_count": 272,
   "metadata": {},
   "outputs": [],
   "source": [
    "param_grid = [{'model__n_neighbors':[3, 5, 7],\n",
    "              'model__weights':['uniform', 'distance'],\n",
    "              'model__algorithm':['ball_tree', 'kd_tree', 'brute']}]"
   ]
  },
  {
   "cell_type": "code",
   "execution_count": 273,
   "metadata": {},
   "outputs": [],
   "source": [
    "gs = GridSearchCV(\n",
    "    estimator = pipe,\n",
    "    param_grid = param_grid,\n",
    "    n_jobs = multiprocessing.cpu_count(),\n",
    "    verbose=True)"
   ]
  },
  {
   "cell_type": "code",
   "execution_count": 274,
   "metadata": {},
   "outputs": [
    {
     "name": "stderr",
     "output_type": "stream",
     "text": [
      "[Parallel(n_jobs=8)]: Using backend LokyBackend with 8 concurrent workers.\n"
     ]
    },
    {
     "name": "stdout",
     "output_type": "stream",
     "text": [
      "Fitting 5 folds for each of 18 candidates, totalling 90 fits\n"
     ]
    },
    {
     "name": "stderr",
     "output_type": "stream",
     "text": [
      "[Parallel(n_jobs=8)]: Done  56 tasks      | elapsed:    0.1s\n",
      "[Parallel(n_jobs=8)]: Done  90 out of  90 | elapsed:    0.1s finished\n"
     ]
    },
    {
     "data": {
      "text/plain": [
       "GridSearchCV(estimator=Pipeline(steps=[('scaler', StandardScaler()),\n",
       "                                       ('model', KNeighborsClassifier())]),\n",
       "             n_jobs=8,\n",
       "             param_grid=[{'model__algorithm': ['ball_tree', 'kd_tree', 'brute'],\n",
       "                          'model__n_neighbors': [3, 5, 7],\n",
       "                          'model__weights': ['uniform', 'distance']}],\n",
       "             verbose=True)"
      ]
     },
     "execution_count": 274,
     "metadata": {},
     "output_type": "execute_result"
    }
   ],
   "source": [
    "gs.fit(X, y)"
   ]
  },
  {
   "cell_type": "code",
   "execution_count": 275,
   "metadata": {},
   "outputs": [
    {
     "data": {
      "text/plain": [
       "Pipeline(steps=[('scaler', StandardScaler()),\n",
       "                ('model',\n",
       "                 KNeighborsClassifier(algorithm='ball_tree', n_neighbors=7))])"
      ]
     },
     "execution_count": 275,
     "metadata": {},
     "output_type": "execute_result"
    }
   ],
   "source": [
    "gs.best_estimator_"
   ]
  },
  {
   "cell_type": "code",
   "execution_count": 276,
   "metadata": {},
   "outputs": [
    {
     "name": "stdout",
     "output_type": "stream",
     "text": [
      "GridSearchCF best score : 0.9665\n"
     ]
    }
   ],
   "source": [
    "print(\"GridSearchCF best score : {:.4f}\".format(gs.best_score_))"
   ]
  },
  {
   "cell_type": "markdown",
   "metadata": {},
   "source": [
    "### 시각화"
   ]
  },
  {
   "cell_type": "code",
   "execution_count": 277,
   "metadata": {},
   "outputs": [],
   "source": [
    "def make_meshgrid(x, y, h=.02):\n",
    "    x_min, x_max = x.min()-1, x.max()+1\n",
    "    y_min, y_max = y.min()-1, y.max()+1\n",
    "    xx, yy = np.meshgrid(np.arange(x_min, x_max, h),\n",
    "                        np.arange(y_min, y_max, h))\n",
    "    return xx, yy\n",
    "\n",
    "def plot_contour(clf, xx, yy, **params):\n",
    "    Z = clf.predict(np.c_[xx.ravel(), yy.ravel()])\n",
    "    Z = Z.reshape(xx.shape)\n",
    "    out = plt.contourf(xx, yy, Z, **params)\n",
    "    \n",
    "    return out"
   ]
  },
  {
   "cell_type": "code",
   "execution_count": 278,
   "metadata": {},
   "outputs": [],
   "source": [
    "tsne = TSNE(n_components=2)   # 시각화를 위해 저차원(2차원)으로 변환\n",
    "X_comp = tsne.fit_transform(X)"
   ]
  },
  {
   "cell_type": "code",
   "execution_count": 279,
   "metadata": {},
   "outputs": [
    {
     "data": {
      "text/plain": [
       "array([[ 10.601383  ,   5.1813064 ],\n",
       "       [  9.888992  ,   5.5430126 ],\n",
       "       [ 12.161909  ,   6.823095  ],\n",
       "       [ 14.588668  ,   8.390103  ],\n",
       "       [  3.3000004 ,   0.22785768],\n",
       "       [ 14.430096  ,   8.301705  ],\n",
       "       [ 13.552006  ,   7.4356823 ],\n",
       "       [ 13.616095  ,   7.4863005 ],\n",
       "       [  9.778392  ,   5.4717374 ],\n",
       "       [ 10.194417  ,   4.95187   ],\n",
       "       [ 14.517287  ,   8.73196   ],\n",
       "       [ 13.014361  ,   7.85035   ],\n",
       "       [ 13.552045  ,   8.063195  ],\n",
       "       [ 11.657178  ,   6.4451222 ],\n",
       "       [ 14.75661   ,   8.683588  ],\n",
       "       [ 13.701956  ,   7.705747  ],\n",
       "       [ 13.48069   ,   7.289735  ],\n",
       "       [ 11.379491  ,   6.1626863 ],\n",
       "       [ 14.9250345 ,   8.890252  ],\n",
       "       [  5.8956294 ,   2.446769  ],\n",
       "       [  4.4770794 ,   1.1422768 ],\n",
       "       [  4.024019  ,   1.1301935 ],\n",
       "       [  9.943419  ,   4.8666887 ],\n",
       "       [  9.560618  ,   4.751924  ],\n",
       "       [  6.168563  ,   2.1229236 ],\n",
       "       [  5.5544763 ,   2.0827818 ],\n",
       "       [ 12.315606  ,   6.918685  ],\n",
       "       [ 13.074459  ,   7.956038  ],\n",
       "       [  7.293644  ,   3.2538664 ],\n",
       "       [  9.607525  ,   5.3038335 ],\n",
       "       [ 13.098622  ,   7.9342923 ],\n",
       "       [ 14.563455  ,   8.717065  ],\n",
       "       [  9.101746  ,   4.555696  ],\n",
       "       [ 12.786629  ,   7.177016  ],\n",
       "       [ 10.945567  ,   5.646489  ],\n",
       "       [  7.395246  ,   3.3229148 ],\n",
       "       [  6.5661445 ,   2.88249   ],\n",
       "       [ 10.849916  ,   6.1010156 ],\n",
       "       [  9.432362  ,   5.036208  ],\n",
       "       [  4.045016  ,   0.7100894 ],\n",
       "       [  4.8249173 ,   1.5179008 ],\n",
       "       [  9.983488  ,   4.823844  ],\n",
       "       [ 10.9379015 ,   5.6528    ],\n",
       "       [  0.9799231 ,  -0.7511776 ],\n",
       "       [  6.7094    ,   2.8990767 ],\n",
       "       [ 10.450103  ,   5.8598523 ],\n",
       "       [ 10.264481  ,   5.6611967 ],\n",
       "       [  9.009442  ,   4.4995804 ],\n",
       "       [ 10.460396  ,   5.177653  ],\n",
       "       [ 12.825895  ,   7.575792  ],\n",
       "       [ 11.657361  ,   6.4439554 ],\n",
       "       [ 13.176706  ,   7.245313  ],\n",
       "       [ 12.262182  ,   6.841916  ],\n",
       "       [ 13.913897  ,   8.217209  ],\n",
       "       [ 10.082012  ,   5.7214074 ],\n",
       "       [ 11.163917  ,   6.13809   ],\n",
       "       [  8.61045   ,   4.224345  ],\n",
       "       [ 13.277732  ,   7.243153  ],\n",
       "       [ 13.115194  ,   7.917037  ],\n",
       "       [ -5.9246416 ,  -6.925664  ],\n",
       "       [  1.0238554 ,  -0.8296711 ],\n",
       "       [ -9.403954  ,  -9.086494  ],\n",
       "       [ -1.1146072 ,  -2.1954308 ],\n",
       "       [-10.447306  , -10.146882  ],\n",
       "       [-12.364354  , -11.193994  ],\n",
       "       [  1.020536  ,  -1.1614379 ],\n",
       "       [ -6.6925426 ,  -7.7036324 ],\n",
       "       [ -6.3843956 ,  -7.459921  ],\n",
       "       [  3.5732107 ,   0.6789475 ],\n",
       "       [  3.4408638 ,  -0.36573318],\n",
       "       [  6.4821663 ,   2.5716846 ],\n",
       "       [-10.946802  , -10.210095  ],\n",
       "       [ -8.216468  ,  -8.479692  ],\n",
       "       [  8.854716  ,   4.4120226 ],\n",
       "       [  6.7740383 ,   2.8547657 ],\n",
       "       [-10.23764   ,  -9.736222  ],\n",
       "       [-11.175588  , -10.8959    ],\n",
       "       [ -7.488841  ,  -6.8766193 ],\n",
       "       [  3.9197035 ,   0.37686974],\n",
       "       [ -8.867943  ,  -8.6419115 ],\n",
       "       [-13.062277  , -12.19913   ],\n",
       "       [  2.252356  ,  -0.15778095],\n",
       "       [ -0.8085484 ,  -2.9041235 ],\n",
       "       [ -6.332089  ,  -7.073903  ],\n",
       "       [ -6.2515826 ,  -6.509213  ],\n",
       "       [ -9.383803  ,  -9.111716  ],\n",
       "       [ -7.3125434 ,  -7.5177007 ],\n",
       "       [ -4.0497203 ,  -5.1756964 ],\n",
       "       [  1.279815  ,  -1.4616226 ],\n",
       "       [ -0.91227704,  -3.2133021 ],\n",
       "       [ -7.6949344 ,  -8.308256  ],\n",
       "       [ -9.234737  ,  -9.326899  ],\n",
       "       [ -7.0329504 ,  -7.8606997 ],\n",
       "       [-12.937155  , -12.180915  ],\n",
       "       [-12.517451  , -11.331134  ],\n",
       "       [  7.902136  ,   3.712118  ],\n",
       "       [ -2.1261551 ,  -2.178995  ],\n",
       "       [-10.095447  , -10.050809  ],\n",
       "       [  0.34450555,  -1.8222492 ],\n",
       "       [-11.047448  , -10.318442  ],\n",
       "       [  2.1998796 ,  -0.31114832],\n",
       "       [ -4.051796  ,  -5.182514  ],\n",
       "       [ -9.840514  ,  -9.469618  ],\n",
       "       [-10.67833   , -10.198695  ],\n",
       "       [  0.8512779 ,  -1.6357523 ],\n",
       "       [-12.875839  , -11.728277  ],\n",
       "       [ -6.437553  ,  -7.3927126 ],\n",
       "       [ -7.443638  ,  -7.986578  ],\n",
       "       [-12.89067   , -11.802843  ],\n",
       "       [  1.2217484 ,  -1.261509  ],\n",
       "       [ -4.418768  ,  -4.822142  ],\n",
       "       [-12.477756  , -12.005104  ],\n",
       "       [ -2.2751713 ,  -3.2957458 ],\n",
       "       [ -9.89326   ,  -9.795332  ],\n",
       "       [-11.328027  , -11.05253   ],\n",
       "       [-10.807791  , -10.575504  ],\n",
       "       [ -7.2001386 ,  -7.6412153 ],\n",
       "       [-12.13796   , -11.846021  ],\n",
       "       [-11.592745  , -11.349069  ],\n",
       "       [ -3.9397428 ,  -5.0617375 ],\n",
       "       [ -1.442355  ,  -2.8140178 ],\n",
       "       [ -9.077484  ,  -8.18182   ],\n",
       "       [-11.788211  , -11.530537  ],\n",
       "       [-11.736263  , -10.811036  ],\n",
       "       [-11.721833  , -10.803024  ],\n",
       "       [-11.758501  , -10.843175  ],\n",
       "       [-12.324562  , -11.267143  ],\n",
       "       [ -8.595644  ,  -8.6622925 ],\n",
       "       [-12.213081  , -11.785068  ],\n",
       "       [ -3.3701458 ,  -4.5434813 ],\n",
       "       [ -1.8134449 ,  -2.1625009 ],\n",
       "       [ -5.7104692 ,  -6.09867   ],\n",
       "       [ -4.3866534 ,  -5.077708  ],\n",
       "       [ -2.5905645 ,  -3.5530796 ],\n",
       "       [ -0.11839727,  -2.1405213 ],\n",
       "       [  1.7141875 ,  -0.696931  ],\n",
       "       [  2.4513545 ,   0.04325891],\n",
       "       [ -6.630516  ,  -6.624715  ],\n",
       "       [ -3.4358046 ,  -4.458914  ],\n",
       "       [ -3.026162  ,  -4.019029  ],\n",
       "       [ -2.491563  ,  -3.704485  ],\n",
       "       [  4.2502437 ,   1.3733263 ],\n",
       "       [ -6.336214  ,  -6.4062505 ],\n",
       "       [ -4.7327476 ,  -5.582897  ],\n",
       "       [  6.098448  ,   2.5760777 ],\n",
       "       [  5.6404037 ,   2.0137143 ],\n",
       "       [-10.493014  , -10.502976  ],\n",
       "       [ -1.201934  ,  -2.9851856 ],\n",
       "       [ -0.2344648 ,  -1.9444364 ],\n",
       "       [ -4.9276643 ,  -5.359456  ],\n",
       "       [ -7.732169  ,  -6.720611  ],\n",
       "       [ -8.377509  ,  -7.662888  ],\n",
       "       [-10.502494  ,  -9.431803  ],\n",
       "       [  0.70156777,  -1.0991296 ],\n",
       "       [ -1.1008621 ,  -2.088008  ],\n",
       "       [  2.6235032 ,   0.20069283],\n",
       "       [ -7.9210086 ,  -8.106268  ],\n",
       "       [  6.729583  ,   2.6411004 ],\n",
       "       [  0.07988869,  -1.4040684 ],\n",
       "       [ -1.5245543 ,  -3.1470816 ],\n",
       "       [ -6.051758  ,  -6.782508  ],\n",
       "       [  0.935958  ,  -0.63854325],\n",
       "       [ -3.977185  ,  -4.584406  ],\n",
       "       [  0.6316217 ,  -0.84569913],\n",
       "       [ -1.7591697 ,  -3.275589  ],\n",
       "       [ -6.066243  ,  -6.7655015 ],\n",
       "       [  1.6185365 ,  -0.42679706],\n",
       "       [  1.4948539 ,  -1.1518301 ],\n",
       "       [  3.459551  ,   0.77067214],\n",
       "       [ -1.6020616 ,  -2.340327  ],\n",
       "       [ -6.8181863 ,  -6.850746  ],\n",
       "       [ -8.268715  ,  -8.587029  ],\n",
       "       [  0.22564493,  -1.6465939 ],\n",
       "       [  3.0404816 ,   0.56312877],\n",
       "       [  3.4199026 ,   0.79074395],\n",
       "       [  5.7715592 ,   2.0686169 ],\n",
       "       [  5.7532034 ,   2.38379   ],\n",
       "       [ -4.3616962 ,  -5.1184783 ]], dtype=float32)"
      ]
     },
     "execution_count": 279,
     "metadata": {},
     "output_type": "execute_result"
    }
   ],
   "source": [
    "X_comp"
   ]
  },
  {
   "cell_type": "code",
   "execution_count": 280,
   "metadata": {
    "scrolled": true
   },
   "outputs": [
    {
     "data": {
      "text/plain": [
       "array([ 10.601383  ,   9.888992  ,  12.161909  ,  14.588668  ,\n",
       "         3.3000004 ,  14.430096  ,  13.552006  ,  13.616095  ,\n",
       "         9.778392  ,  10.194417  ,  14.517287  ,  13.014361  ,\n",
       "        13.552045  ,  11.657178  ,  14.75661   ,  13.701956  ,\n",
       "        13.48069   ,  11.379491  ,  14.9250345 ,   5.8956294 ,\n",
       "         4.4770794 ,   4.024019  ,   9.943419  ,   9.560618  ,\n",
       "         6.168563  ,   5.5544763 ,  12.315606  ,  13.074459  ,\n",
       "         7.293644  ,   9.607525  ,  13.098622  ,  14.563455  ,\n",
       "         9.101746  ,  12.786629  ,  10.945567  ,   7.395246  ,\n",
       "         6.5661445 ,  10.849916  ,   9.432362  ,   4.045016  ,\n",
       "         4.8249173 ,   9.983488  ,  10.9379015 ,   0.9799231 ,\n",
       "         6.7094    ,  10.450103  ,  10.264481  ,   9.009442  ,\n",
       "        10.460396  ,  12.825895  ,  11.657361  ,  13.176706  ,\n",
       "        12.262182  ,  13.913897  ,  10.082012  ,  11.163917  ,\n",
       "         8.61045   ,  13.277732  ,  13.115194  ,  -5.9246416 ,\n",
       "         1.0238554 ,  -9.403954  ,  -1.1146072 , -10.447306  ,\n",
       "       -12.364354  ,   1.020536  ,  -6.6925426 ,  -6.3843956 ,\n",
       "         3.5732107 ,   3.4408638 ,   6.4821663 , -10.946802  ,\n",
       "        -8.216468  ,   8.854716  ,   6.7740383 , -10.23764   ,\n",
       "       -11.175588  ,  -7.488841  ,   3.9197035 ,  -8.867943  ,\n",
       "       -13.062277  ,   2.252356  ,  -0.8085484 ,  -6.332089  ,\n",
       "        -6.2515826 ,  -9.383803  ,  -7.3125434 ,  -4.0497203 ,\n",
       "         1.279815  ,  -0.91227704,  -7.6949344 ,  -9.234737  ,\n",
       "        -7.0329504 , -12.937155  , -12.517451  ,   7.902136  ,\n",
       "        -2.1261551 , -10.095447  ,   0.34450555, -11.047448  ,\n",
       "         2.1998796 ,  -4.051796  ,  -9.840514  , -10.67833   ,\n",
       "         0.8512779 , -12.875839  ,  -6.437553  ,  -7.443638  ,\n",
       "       -12.89067   ,   1.2217484 ,  -4.418768  , -12.477756  ,\n",
       "        -2.2751713 ,  -9.89326   , -11.328027  , -10.807791  ,\n",
       "        -7.2001386 , -12.13796   , -11.592745  ,  -3.9397428 ,\n",
       "        -1.442355  ,  -9.077484  , -11.788211  , -11.736263  ,\n",
       "       -11.721833  , -11.758501  , -12.324562  ,  -8.595644  ,\n",
       "       -12.213081  ,  -3.3701458 ,  -1.8134449 ,  -5.7104692 ,\n",
       "        -4.3866534 ,  -2.5905645 ,  -0.11839727,   1.7141875 ,\n",
       "         2.4513545 ,  -6.630516  ,  -3.4358046 ,  -3.026162  ,\n",
       "        -2.491563  ,   4.2502437 ,  -6.336214  ,  -4.7327476 ,\n",
       "         6.098448  ,   5.6404037 , -10.493014  ,  -1.201934  ,\n",
       "        -0.2344648 ,  -4.9276643 ,  -7.732169  ,  -8.377509  ,\n",
       "       -10.502494  ,   0.70156777,  -1.1008621 ,   2.6235032 ,\n",
       "        -7.9210086 ,   6.729583  ,   0.07988869,  -1.5245543 ,\n",
       "        -6.051758  ,   0.935958  ,  -3.977185  ,   0.6316217 ,\n",
       "        -1.7591697 ,  -6.066243  ,   1.6185365 ,   1.4948539 ,\n",
       "         3.459551  ,  -1.6020616 ,  -6.8181863 ,  -8.268715  ,\n",
       "         0.22564493,   3.0404816 ,   3.4199026 ,   5.7715592 ,\n",
       "         5.7532034 ,  -4.3616962 ], dtype=float32)"
      ]
     },
     "execution_count": 280,
     "metadata": {},
     "output_type": "execute_result"
    }
   ],
   "source": [
    "X_comp[:,0]"
   ]
  },
  {
   "cell_type": "code",
   "execution_count": 281,
   "metadata": {
    "scrolled": true
   },
   "outputs": [
    {
     "data": {
      "text/plain": [
       "array([  5.1813064 ,   5.5430126 ,   6.823095  ,   8.390103  ,\n",
       "         0.22785768,   8.301705  ,   7.4356823 ,   7.4863005 ,\n",
       "         5.4717374 ,   4.95187   ,   8.73196   ,   7.85035   ,\n",
       "         8.063195  ,   6.4451222 ,   8.683588  ,   7.705747  ,\n",
       "         7.289735  ,   6.1626863 ,   8.890252  ,   2.446769  ,\n",
       "         1.1422768 ,   1.1301935 ,   4.8666887 ,   4.751924  ,\n",
       "         2.1229236 ,   2.0827818 ,   6.918685  ,   7.956038  ,\n",
       "         3.2538664 ,   5.3038335 ,   7.9342923 ,   8.717065  ,\n",
       "         4.555696  ,   7.177016  ,   5.646489  ,   3.3229148 ,\n",
       "         2.88249   ,   6.1010156 ,   5.036208  ,   0.7100894 ,\n",
       "         1.5179008 ,   4.823844  ,   5.6528    ,  -0.7511776 ,\n",
       "         2.8990767 ,   5.8598523 ,   5.6611967 ,   4.4995804 ,\n",
       "         5.177653  ,   7.575792  ,   6.4439554 ,   7.245313  ,\n",
       "         6.841916  ,   8.217209  ,   5.7214074 ,   6.13809   ,\n",
       "         4.224345  ,   7.243153  ,   7.917037  ,  -6.925664  ,\n",
       "        -0.8296711 ,  -9.086494  ,  -2.1954308 , -10.146882  ,\n",
       "       -11.193994  ,  -1.1614379 ,  -7.7036324 ,  -7.459921  ,\n",
       "         0.6789475 ,  -0.36573318,   2.5716846 , -10.210095  ,\n",
       "        -8.479692  ,   4.4120226 ,   2.8547657 ,  -9.736222  ,\n",
       "       -10.8959    ,  -6.8766193 ,   0.37686974,  -8.6419115 ,\n",
       "       -12.19913   ,  -0.15778095,  -2.9041235 ,  -7.073903  ,\n",
       "        -6.509213  ,  -9.111716  ,  -7.5177007 ,  -5.1756964 ,\n",
       "        -1.4616226 ,  -3.2133021 ,  -8.308256  ,  -9.326899  ,\n",
       "        -7.8606997 , -12.180915  , -11.331134  ,   3.712118  ,\n",
       "        -2.178995  , -10.050809  ,  -1.8222492 , -10.318442  ,\n",
       "        -0.31114832,  -5.182514  ,  -9.469618  , -10.198695  ,\n",
       "        -1.6357523 , -11.728277  ,  -7.3927126 ,  -7.986578  ,\n",
       "       -11.802843  ,  -1.261509  ,  -4.822142  , -12.005104  ,\n",
       "        -3.2957458 ,  -9.795332  , -11.05253   , -10.575504  ,\n",
       "        -7.6412153 , -11.846021  , -11.349069  ,  -5.0617375 ,\n",
       "        -2.8140178 ,  -8.18182   , -11.530537  , -10.811036  ,\n",
       "       -10.803024  , -10.843175  , -11.267143  ,  -8.6622925 ,\n",
       "       -11.785068  ,  -4.5434813 ,  -2.1625009 ,  -6.09867   ,\n",
       "        -5.077708  ,  -3.5530796 ,  -2.1405213 ,  -0.696931  ,\n",
       "         0.04325891,  -6.624715  ,  -4.458914  ,  -4.019029  ,\n",
       "        -3.704485  ,   1.3733263 ,  -6.4062505 ,  -5.582897  ,\n",
       "         2.5760777 ,   2.0137143 , -10.502976  ,  -2.9851856 ,\n",
       "        -1.9444364 ,  -5.359456  ,  -6.720611  ,  -7.662888  ,\n",
       "        -9.431803  ,  -1.0991296 ,  -2.088008  ,   0.20069283,\n",
       "        -8.106268  ,   2.6411004 ,  -1.4040684 ,  -3.1470816 ,\n",
       "        -6.782508  ,  -0.63854325,  -4.584406  ,  -0.84569913,\n",
       "        -3.275589  ,  -6.7655015 ,  -0.42679706,  -1.1518301 ,\n",
       "         0.77067214,  -2.340327  ,  -6.850746  ,  -8.587029  ,\n",
       "        -1.6465939 ,   0.56312877,   0.79074395,   2.0686169 ,\n",
       "         2.38379   ,  -5.1184783 ], dtype=float32)"
      ]
     },
     "execution_count": 281,
     "metadata": {},
     "output_type": "execute_result"
    }
   ],
   "source": [
    "X_comp[:,1]"
   ]
  },
  {
   "cell_type": "code",
   "execution_count": 282,
   "metadata": {
    "scrolled": true
   },
   "outputs": [
    {
     "data": {
      "text/html": [
       "<div>\n",
       "<style scoped>\n",
       "    .dataframe tbody tr th:only-of-type {\n",
       "        vertical-align: middle;\n",
       "    }\n",
       "\n",
       "    .dataframe tbody tr th {\n",
       "        vertical-align: top;\n",
       "    }\n",
       "\n",
       "    .dataframe thead th {\n",
       "        text-align: right;\n",
       "    }\n",
       "</style>\n",
       "<table border=\"1\" class=\"dataframe\">\n",
       "  <thead>\n",
       "    <tr style=\"text-align: right;\">\n",
       "      <th></th>\n",
       "      <th>0</th>\n",
       "      <th>1</th>\n",
       "      <th>Target</th>\n",
       "    </tr>\n",
       "  </thead>\n",
       "  <tbody>\n",
       "    <tr>\n",
       "      <th>0</th>\n",
       "      <td>10.601383</td>\n",
       "      <td>5.181306</td>\n",
       "      <td>0</td>\n",
       "    </tr>\n",
       "    <tr>\n",
       "      <th>1</th>\n",
       "      <td>9.888992</td>\n",
       "      <td>5.543013</td>\n",
       "      <td>0</td>\n",
       "    </tr>\n",
       "    <tr>\n",
       "      <th>2</th>\n",
       "      <td>12.161909</td>\n",
       "      <td>6.823095</td>\n",
       "      <td>0</td>\n",
       "    </tr>\n",
       "    <tr>\n",
       "      <th>3</th>\n",
       "      <td>14.588668</td>\n",
       "      <td>8.390103</td>\n",
       "      <td>0</td>\n",
       "    </tr>\n",
       "    <tr>\n",
       "      <th>4</th>\n",
       "      <td>3.300000</td>\n",
       "      <td>0.227858</td>\n",
       "      <td>0</td>\n",
       "    </tr>\n",
       "    <tr>\n",
       "      <th>...</th>\n",
       "      <td>...</td>\n",
       "      <td>...</td>\n",
       "      <td>...</td>\n",
       "    </tr>\n",
       "    <tr>\n",
       "      <th>173</th>\n",
       "      <td>3.040482</td>\n",
       "      <td>0.563129</td>\n",
       "      <td>2</td>\n",
       "    </tr>\n",
       "    <tr>\n",
       "      <th>174</th>\n",
       "      <td>3.419903</td>\n",
       "      <td>0.790744</td>\n",
       "      <td>2</td>\n",
       "    </tr>\n",
       "    <tr>\n",
       "      <th>175</th>\n",
       "      <td>5.771559</td>\n",
       "      <td>2.068617</td>\n",
       "      <td>2</td>\n",
       "    </tr>\n",
       "    <tr>\n",
       "      <th>176</th>\n",
       "      <td>5.753203</td>\n",
       "      <td>2.383790</td>\n",
       "      <td>2</td>\n",
       "    </tr>\n",
       "    <tr>\n",
       "      <th>177</th>\n",
       "      <td>-4.361696</td>\n",
       "      <td>-5.118478</td>\n",
       "      <td>2</td>\n",
       "    </tr>\n",
       "  </tbody>\n",
       "</table>\n",
       "<p>178 rows × 3 columns</p>\n",
       "</div>"
      ],
      "text/plain": [
       "             0         1  Target\n",
       "0    10.601383  5.181306       0\n",
       "1     9.888992  5.543013       0\n",
       "2    12.161909  6.823095       0\n",
       "3    14.588668  8.390103       0\n",
       "4     3.300000  0.227858       0\n",
       "..         ...       ...     ...\n",
       "173   3.040482  0.563129       2\n",
       "174   3.419903  0.790744       2\n",
       "175   5.771559  2.068617       2\n",
       "176   5.753203  2.383790       2\n",
       "177  -4.361696 -5.118478       2\n",
       "\n",
       "[178 rows x 3 columns]"
      ]
     },
     "execution_count": 282,
     "metadata": {},
     "output_type": "execute_result"
    }
   ],
   "source": [
    "comp_df = pd.DataFrame(data=X_comp)\n",
    "comp_df[\"Target\"] = y\n",
    "comp_df"
   ]
  },
  {
   "cell_type": "code",
   "execution_count": 283,
   "metadata": {},
   "outputs": [
    {
     "data": {
      "text/plain": [
       "<matplotlib.collections.PathCollection at 0x1d47d396108>"
      ]
     },
     "execution_count": 283,
     "metadata": {},
     "output_type": "execute_result"
    },
    {
     "data": {
      "image/png": "[encoded data removed]",
      "text/plain": [
       "<Figure size 432x288 with 1 Axes>"
      ]
     },
     "metadata": {},
     "output_type": "display_data"
    }
   ],
   "source": [
    "## 단순 시각화\n",
    "plt.scatter(X_comp[:,0], X_comp[:,1],\n",
    "           c=y, cmap=plt.cm.coolwarm, s=20, edgecolors='k')"
   ]
  },
  {
   "cell_type": "code",
   "execution_count": 284,
   "metadata": {},
   "outputs": [],
   "source": [
    "## KNN을 통한 시각화\n",
    "\n",
    "model = KNeighborsClassifier()\n",
    "model.fit(X_comp, y)\n",
    "predict = model.predict(X_comp)"
   ]
  },
  {
   "cell_type": "code",
   "execution_count": 285,
   "metadata": {
    "scrolled": true
   },
   "outputs": [
    {
     "data": {
      "image/png": "[encoded data removed]",
      "text/plain": [
       "<Figure size 432x288 with 1 Axes>"
      ]
     },
     "metadata": {},
     "output_type": "display_data"
    }
   ],
   "source": [
    "xx, yy = make_meshgrid(X_comp[:,0], X_comp[:,1])\n",
    "plot_contour(model, xx, yy, cmap=plt.cm.coolwarm, alpha=0.8)\n",
    "plt.scatter(X_comp[:,0], X_comp[:, 1], c=y, cmap=plt.cm.coolwarm, s=20, edgecolors='k');"
   ]
  }
 ],
 "metadata": {
  "kernelspec": {
   "display_name": "Python 3",
   "language": "python",
   "name": "python3"
  },
  "language_info": {
   "codemirror_mode": {
    "name": "ipython",
    "version": 3
   },
   "file_extension": ".py",
   "mimetype": "text/x-python",
   "name": "python",
   "nbconvert_exporter": "python",
   "pygments_lexer": "ipython3",
   "version": "3.7.7"
  }
 },
 "nbformat": 4,
 "nbformat_minor": 4
}
