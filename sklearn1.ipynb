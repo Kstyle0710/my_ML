{
 "cells": [
  {
   "cell_type": "markdown",
   "metadata": {},
   "source": [
    "### sklearn API 사용방법<br>\n",
    "   1) Scikit Learn으로부터 적절한 estimator 클래스를 임포트해서 모델의 클래스를 선택<br>\n",
    "   2) 클래스를 원하는 값으로 인스턴스화해서 모델의 하이퍼 파라미타 선택<br>\n",
    "   3) 데이터를 특징 배열과 대상 벡터로 배치<br>\n",
    "   4) 모델 인스턴스의 fit() 메서드를 호출해 모델을 데이터에 적합<br>\n",
    "   5) 모델을 새 데이터에 대해 적용<br>\n",
    "       - 지도학습 : 대체로 predict() 메서드를 사용해 알려지지 않은 데이터에 대한 레이블 예측<br>\n",
    "       - 비지도학습 : 대체로 transform()이나 predict() 메서드를 사용해 데이터의 속성을 변환하거나 추론"
   ]
  },
  {
   "cell_type": "code",
   "execution_count": 1,
   "metadata": {},
   "outputs": [],
   "source": [
    "import numpy as np\n",
    "import matplotlib.pyplot as plt\n",
    "plt.style.use(['seaborn-whitegrid'])"
   ]
  },
  {
   "cell_type": "code",
   "execution_count": 2,
   "metadata": {},
   "outputs": [
    {
     "data": {
      "image/png": "[encoded data removed]",
      "text/plain": [
       "<Figure size 432x288 with 1 Axes>"
      ]
     },
     "metadata": {},
     "output_type": "display_data"
    }
   ],
   "source": [
    "x = np.random.rand(50) * 10\n",
    "y = 2 * x + np.random.rand(50)\n",
    "plt.scatter(x, y)\n",
    "plt.show()\n"
   ]
  },
  {
   "cell_type": "code",
   "execution_count": 6,
   "metadata": {},
   "outputs": [],
   "source": [
    "## 1) Scikit Learn으로부터 적절한 estimator 클래스를 임포트해서 모델의 클래스를 선택\n",
    "from sklearn.linear_model import LinearRegression"
   ]
  },
  {
   "cell_type": "code",
   "execution_count": 7,
   "metadata": {},
   "outputs": [],
   "source": [
    "## 2) 클래스를 원하는 값으로 인스턴스화해서 모델의 하이퍼 파라미타 선택\n",
    "model = LinearRegression(fit_intercept=True)"
   ]
  },
  {
   "cell_type": "code",
   "execution_count": 4,
   "metadata": {},
   "outputs": [
    {
     "name": "stdout",
     "output_type": "stream",
     "text": [
      "[3.58836682 1.68025637 0.8964875  4.84807926 9.82434315 9.02265741\n",
      " 8.94651117 8.39289073 0.87763852 2.8110034  1.7680226  6.58112916\n",
      " 9.18735054 0.36748596 9.57177638 1.61251745 0.56378191 3.11936524\n",
      " 6.19572024 3.12624181 2.63774222 0.46424142 4.03624298 3.07427504\n",
      " 7.09588268 3.01612218 2.36561795 2.11863568 4.21261702 3.60655506\n",
      " 3.43149413 1.81020799 0.2878194  2.05878095 3.70827155 4.85575426\n",
      " 2.42035545 5.16970578 4.64235057 2.89486693 3.51177048 3.49970523\n",
      " 8.64342613 0.89768981 3.72468901 8.97075211 7.92378929 0.70853152\n",
      " 4.82635534 5.11389462]\n",
      "[[3.58836682]\n",
      " [1.68025637]\n",
      " [0.8964875 ]\n",
      " [4.84807926]\n",
      " [9.82434315]\n",
      " [9.02265741]\n",
      " [8.94651117]\n",
      " [8.39289073]\n",
      " [0.87763852]\n",
      " [2.8110034 ]\n",
      " [1.7680226 ]\n",
      " [6.58112916]\n",
      " [9.18735054]\n",
      " [0.36748596]\n",
      " [9.57177638]\n",
      " [1.61251745]\n",
      " [0.56378191]\n",
      " [3.11936524]\n",
      " [6.19572024]\n",
      " [3.12624181]\n",
      " [2.63774222]\n",
      " [0.46424142]\n",
      " [4.03624298]\n",
      " [3.07427504]\n",
      " [7.09588268]\n",
      " [3.01612218]\n",
      " [2.36561795]\n",
      " [2.11863568]\n",
      " [4.21261702]\n",
      " [3.60655506]\n",
      " [3.43149413]\n",
      " [1.81020799]\n",
      " [0.2878194 ]\n",
      " [2.05878095]\n",
      " [3.70827155]\n",
      " [4.85575426]\n",
      " [2.42035545]\n",
      " [5.16970578]\n",
      " [4.64235057]\n",
      " [2.89486693]\n",
      " [3.51177048]\n",
      " [3.49970523]\n",
      " [8.64342613]\n",
      " [0.89768981]\n",
      " [3.72468901]\n",
      " [8.97075211]\n",
      " [7.92378929]\n",
      " [0.70853152]\n",
      " [4.82635534]\n",
      " [5.11389462]]\n"
     ]
    }
   ],
   "source": [
    "## 3) 데이터를 특징 배열과 대상 벡터로 배치\n",
    "print(x)  # 1차원 array 형태로 출력됨\n",
    "X = x[:, np.newaxis]\n",
    "print(X)  # 축을 추가해서 2차원 array 형태로 출력됨"
   ]
  },
  {
   "cell_type": "code",
   "execution_count": 8,
   "metadata": {},
   "outputs": [
    {
     "name": "stdout",
     "output_type": "stream",
     "text": [
      "[1.99432939]\n"
     ]
    }
   ],
   "source": [
    "model.fit(X, y)\n",
    "print(model.coef_)"
   ]
  },
  {
   "cell_type": "code",
   "execution_count": 9,
   "metadata": {},
   "outputs": [
    {
     "name": "stdout",
     "output_type": "stream",
     "text": [
      "[-1.48665038e+00 -9.98243183e-01 -5.09835985e-01 -2.14287865e-02\n",
      "  4.66978412e-01  9.55385610e-01  1.44379281e+00  1.93220001e+00\n",
      "  2.42060721e+00  2.90901440e+00  3.39742160e+00  3.88582880e+00\n",
      "  4.37423600e+00  4.86264320e+00  5.35105039e+00  5.83945759e+00\n",
      "  6.32786479e+00  6.81627199e+00  7.30467919e+00  7.79308639e+00\n",
      "  8.28149358e+00  8.76990078e+00  9.25830798e+00  9.74671518e+00\n",
      "  1.02351224e+01  1.07235296e+01  1.12119368e+01  1.17003440e+01\n",
      "  1.21887512e+01  1.26771584e+01  1.31655656e+01  1.36539728e+01\n",
      "  1.41423800e+01  1.46307872e+01  1.51191944e+01  1.56076016e+01\n",
      "  1.60960088e+01  1.65844160e+01  1.70728232e+01  1.75612304e+01\n",
      "  1.80496376e+01  1.85380447e+01  1.90264519e+01  1.95148591e+01\n",
      "  2.00032663e+01  2.04916735e+01  2.09800807e+01  2.14684879e+01\n",
      "  2.19568951e+01  2.24453023e+01]\n"
     ]
    },
    {
     "data": {
      "image/png": "[encoded data removed]",
      "text/plain": [
       "<Figure size 432x288 with 1 Axes>"
      ]
     },
     "metadata": {},
     "output_type": "display_data"
    }
   ],
   "source": [
    "## 5) 모델을 새 데이터에 대해 적용\n",
    "xfit = np.linspace(-1, 11)\n",
    "# print(xfit)\n",
    "Xfit = xfit[:, np.newaxis]\n",
    "yfit = model.predict(Xfit)\n",
    "print(yfit)\n",
    "\n",
    "plt.scatter(x, y)    # 원 데이터 분포\n",
    "plt.plot(xfit, yfit, '--r')   # 모델 예측\n",
    "plt.show()"
   ]
  },
  {
   "cell_type": "code",
   "execution_count": null,
   "metadata": {},
   "outputs": [],
   "source": []
  }
 ],
 "metadata": {
  "kernelspec": {
   "display_name": "Python 3",
   "language": "python",
   "name": "python3"
  },
  "language_info": {
   "codemirror_mode": {
    "name": "ipython",
    "version": 3
   },
   "file_extension": ".py",
   "mimetype": "text/x-python",
   "name": "python",
   "nbconvert_exporter": "python",
   "pygments_lexer": "ipython3",
   "version": "3.7.7"
  }
 },
 "nbformat": 4,
 "nbformat_minor": 4
}
